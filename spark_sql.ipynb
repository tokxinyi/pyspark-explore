{
 "cells": [
  {
   "cell_type": "code",
   "execution_count": 1,
   "id": "4e2bfc68",
   "metadata": {},
   "outputs": [
    {
     "name": "stderr",
     "output_type": "stream",
     "text": [
      "23/03/31 08:13:49 WARN NativeCodeLoader: Unable to load native-hadoop library for your platform... using builtin-java classes where applicable\n",
      "Using Spark's default log4j profile: org/apache/spark/log4j-defaults.properties\n",
      "Setting default log level to \"WARN\".\n",
      "To adjust logging level use sc.setLogLevel(newLevel). For SparkR, use setLogLevel(newLevel).\n"
     ]
    }
   ],
   "source": [
    "from pyspark.sql import SparkSession\n",
    "\n",
    "spark = SparkSession.builder. \\\n",
    "        appName(\"spark_sql\").\\\n",
    "        master(\"spark://spark-master:7077\").\\\n",
    "        config(\"spark.executor.memory\", \"512m\").\\\n",
    "        getOrCreate()"
   ]
  },
  {
   "cell_type": "code",
   "execution_count": 2,
   "id": "9ed84967",
   "metadata": {},
   "outputs": [
    {
     "name": "stderr",
     "output_type": "stream",
     "text": [
      "                                                                                \r"
     ]
    }
   ],
   "source": [
    "# to read the data into Spark DataFrames\n",
    "df_green = spark.read.parquet('./data/processed/green/*/*')\n",
    "df_yellow = spark.read.parquet('./data/processed/yellow/*/*')\n",
    "df_fhv = spark.read.parquet('./data/processed/fhv/*')"
   ]
  },
  {
   "cell_type": "code",
   "execution_count": null,
   "id": "e381b8b0",
   "metadata": {},
   "outputs": [],
   "source": [
    "# Find out the common columns between the two dataframes\n",
    "set(df_green.columns) & set(df_yellow.columns)"
   ]
  },
  {
   "cell_type": "code",
   "execution_count": null,
   "id": "682dcef2",
   "metadata": {},
   "outputs": [],
   "source": [
    "# df_green.select('lpep_pickup_datetime', 'lpep_dropoff_datetime').show()\n",
    "# df = spark.read.parquet('./data/raw/green_tripdata_2020-01.parquet')\n",
    "# df.printSchema()\n",
    "\n",
    "df_yellow.printSchema()"
   ]
  },
  {
   "cell_type": "code",
   "execution_count": 3,
   "id": "07bf8a64",
   "metadata": {},
   "outputs": [],
   "source": [
    "# Renaming the datetime columns\n",
    "df_green = df_green \\\n",
    "        .withColumnRenamed('tpep_pickup_datetime', 'pickup_datetime')\\\n",
    "        .withColumnRenamed('tpep_dropoff_datetime', 'dropoff_datetime')\n",
    "\n",
    "\n",
    "df_yellow = df_yellow\\\n",
    "        .withColumnRenamed('tpep_pickup_datetime', 'pickup_datetime')\\\n",
    "        .withColumnRenamed('tpep_dropoff_datetime', 'dropoff_datetime')"
   ]
  },
  {
   "cell_type": "code",
   "execution_count": 4,
   "id": "26a72266",
   "metadata": {},
   "outputs": [
    {
     "data": {
      "text/plain": [
       "['VendorID',\n",
       " 'pickup_datetime',\n",
       " 'dropoff_datetime',\n",
       " 'passenger_count',\n",
       " 'trip_distance',\n",
       " 'RatecodeID',\n",
       " 'store_and_fwd_flag',\n",
       " 'PULocationID',\n",
       " 'DOLocationID',\n",
       " 'payment_type',\n",
       " 'fare_amount',\n",
       " 'extra',\n",
       " 'mta_tax',\n",
       " 'tip_amount',\n",
       " 'tolls_amount',\n",
       " 'improvement_surcharge',\n",
       " 'total_amount',\n",
       " 'congestion_surcharge']"
      ]
     },
     "execution_count": 4,
     "metadata": {},
     "output_type": "execute_result"
    }
   ],
   "source": [
    "# Preserve the column order in df_green\n",
    "common_cols = []\n",
    "\n",
    "for col in df_green.columns:\n",
    "    if (col in set(df_yellow.columns)):\n",
    "        common_cols.append(col)\n",
    "        \n",
    "        \n",
    "common_cols"
   ]
  },
  {
   "cell_type": "code",
   "execution_count": 5,
   "id": "16f4d9fc",
   "metadata": {},
   "outputs": [],
   "source": [
    "from pyspark.sql import functions as F\n",
    "\n",
    "# select the common columns from both dataframe and join to form one table\n",
    "df_green_proc = df_green\\\n",
    "            .select(common_cols)\\\n",
    "            .withColumn('service_type', F.lit('green')) # help us identify which table did the data come from\n",
    "\n",
    "\n",
    "df_yellow_proc = df_yellow\\\n",
    "            .select(common_cols)\\\n",
    "            .withColumn('service_type', F.lit('yellow')) # help us identify which table did the data come from"
   ]
  },
  {
   "cell_type": "code",
   "execution_count": 6,
   "id": "569b5411",
   "metadata": {},
   "outputs": [],
   "source": [
    "df_trips_data = df_green_proc\\\n",
    "                .unionAll(df_yellow_proc)"
   ]
  },
  {
   "cell_type": "code",
   "execution_count": 7,
   "id": "65226e04",
   "metadata": {},
   "outputs": [
    {
     "name": "stderr",
     "output_type": "stream",
     "text": [
      "                                                                                \r"
     ]
    },
    {
     "name": "stdout",
     "output_type": "stream",
     "text": [
      "+------------+--------+\n",
      "|service_type|   count|\n",
      "+------------+--------+\n",
      "|       green|77144856|\n",
      "|      yellow|55553400|\n",
      "+------------+--------+\n",
      "\n"
     ]
    }
   ],
   "source": [
    "df_trips_data.groupBy('service_type').count().show()"
   ]
  },
  {
   "cell_type": "markdown",
   "id": "a8b6a0d5",
   "metadata": {},
   "source": [
    "Spark don't recognise df_trips_data as a table.\n",
    "Have to register the dataframe as a temptable before you can query it using Spark SQL."
   ]
  },
  {
   "cell_type": "code",
   "execution_count": null,
   "id": "447b3fbf",
   "metadata": {},
   "outputs": [],
   "source": [
    "spark.sql(\"\"\"\n",
    "\n",
    "select * from df_trips_data limit 10;\n",
    "\n",
    "\"\"\")"
   ]
  },
  {
   "cell_type": "code",
   "execution_count": 8,
   "id": "2b8175bf",
   "metadata": {},
   "outputs": [],
   "source": [
    "# register as temp table\n",
    "df_trips_data.registerTempTable('trips_data')"
   ]
  },
  {
   "cell_type": "code",
   "execution_count": null,
   "id": "59e51a46",
   "metadata": {},
   "outputs": [],
   "source": [
    "spark.sql(\"\"\"\n",
    "\n",
    "select * from trips_data limit 10;\n",
    "\n",
    "\"\"\").show()"
   ]
  },
  {
   "cell_type": "code",
   "execution_count": null,
   "id": "de1dac72",
   "metadata": {},
   "outputs": [],
   "source": [
    "# re-write the groupby statement using spark.sql\n",
    "spark.sql(\"\"\"\n",
    "\n",
    "select\n",
    "    service_type,\n",
    "    count(1) as count\n",
    "from trips_data\n",
    "group by service_type;\n",
    "\n",
    "\"\"\").show()"
   ]
  },
  {
   "cell_type": "code",
   "execution_count": 9,
   "id": "4e12fde4",
   "metadata": {},
   "outputs": [
    {
     "name": "stdout",
     "output_type": "stream",
     "text": [
      "root\n",
      " |-- VendorID: integer (nullable = true)\n",
      " |-- pickup_datetime: timestamp (nullable = true)\n",
      " |-- dropoff_datetime: timestamp (nullable = true)\n",
      " |-- passenger_count: double (nullable = true)\n",
      " |-- trip_distance: double (nullable = true)\n",
      " |-- RatecodeID: double (nullable = true)\n",
      " |-- store_and_fwd_flag: string (nullable = true)\n",
      " |-- PULocationID: integer (nullable = true)\n",
      " |-- DOLocationID: integer (nullable = true)\n",
      " |-- payment_type: integer (nullable = true)\n",
      " |-- fare_amount: double (nullable = true)\n",
      " |-- extra: double (nullable = true)\n",
      " |-- mta_tax: double (nullable = true)\n",
      " |-- tip_amount: double (nullable = true)\n",
      " |-- tolls_amount: double (nullable = true)\n",
      " |-- improvement_surcharge: double (nullable = true)\n",
      " |-- total_amount: double (nullable = true)\n",
      " |-- congestion_surcharge: double (nullable = true)\n",
      " |-- service_type: string (nullable = false)\n",
      "\n"
     ]
    }
   ],
   "source": [
    "df_trips_data.printSchema()"
   ]
  },
  {
   "cell_type": "code",
   "execution_count": 10,
   "id": "01eee31a",
   "metadata": {},
   "outputs": [],
   "source": [
    "df_result = spark.sql(\"\"\"\n",
    "\n",
    "select\n",
    "    -- revenue grouping\n",
    "    PULocationID as revenue_zone,\n",
    "    date_trunc('month', pickup_datetime) as revenue_month,\n",
    "    service_type,\n",
    "    \n",
    "    -- revenue calculation\n",
    "    sum(fare_amount) as revenue_monthly_fare,\n",
    "    sum(extra) as revenue_monthly_extra,\n",
    "    sum(mta_tax) as revenue_monthly_mta_tax,\n",
    "    sum(tip_amount) as revenue_monthly_tip_amount,\n",
    "    sum(tolls_amount) as revenue_monthly_tolls_amount,\n",
    "    sum(improvement_surcharge) as revenue_monthly_improvement_surcharge,\n",
    "    sum(total_amount) as revenue_monthly_total_amount,\n",
    "    sum(congestion_surcharge) as revenue_monthly_congestion_surcharge,\n",
    "    \n",
    "    \n",
    "    -- additional calculations\n",
    "    avg(passenger_count) as avg_monthly_passenger_count,\n",
    "    avg(trip_distance) as avg_monthly_trip_distance\n",
    "    \n",
    "from trips_data\n",
    "group by 1,2,3\n",
    "-- group by revenue_zone, revenue_month, service_type\n",
    "\n",
    "\"\"\")"
   ]
  },
  {
   "cell_type": "code",
   "execution_count": 12,
   "id": "78c97b6f",
   "metadata": {},
   "outputs": [
    {
     "name": "stderr",
     "output_type": "stream",
     "text": [
      "                                                                                \r"
     ]
    }
   ],
   "source": [
    "# this will generate a lot of small files\n",
    "df_result.write.parquet('./data/report/revenue/')"
   ]
  },
  {
   "cell_type": "code",
   "execution_count": 14,
   "id": "8d176c66",
   "metadata": {},
   "outputs": [
    {
     "name": "stderr",
     "output_type": "stream",
     "text": [
      "                                                                                \r"
     ]
    }
   ],
   "source": [
    "# to reduce the number of partitions\n",
    "\n",
    "no_of_partitions = 1\n",
    "df_result.coalesce(no_of_partitions).write.parquet('./data/report/revenue/', mode = 'overwrite')"
   ]
  },
  {
   "cell_type": "code",
   "execution_count": 15,
   "id": "19f4c111",
   "metadata": {},
   "outputs": [
    {
     "name": "stdout",
     "output_type": "stream",
     "text": [
      "_SUCCESS  part-00000-9e1cf35f-d9f7-451f-a0c3-85f27c8c981f-c000.snappy.parquet\n"
     ]
    }
   ],
   "source": [
    "! ls -h ./data/report/revenue"
   ]
  }
 ],
 "metadata": {
  "kernelspec": {
   "display_name": "Python 3 (ipykernel)",
   "language": "python",
   "name": "python3"
  },
  "language_info": {
   "codemirror_mode": {
    "name": "ipython",
    "version": 3
   },
   "file_extension": ".py",
   "mimetype": "text/x-python",
   "name": "python",
   "nbconvert_exporter": "python",
   "pygments_lexer": "ipython3",
   "version": "3.9.2"
  }
 },
 "nbformat": 4,
 "nbformat_minor": 5
}
