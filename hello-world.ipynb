{
 "cells": [
  {
   "cell_type": "code",
   "execution_count": 1,
   "id": "6e09addb",
   "metadata": {},
   "outputs": [
    {
     "name": "stderr",
     "output_type": "stream",
     "text": [
      "23/02/11 14:48:48 WARN NativeCodeLoader: Unable to load native-hadoop library for your platform... using builtin-java classes where applicable\n",
      "Using Spark's default log4j profile: org/apache/spark/log4j-defaults.properties\n",
      "Setting default log level to \"WARN\".\n",
      "To adjust logging level use sc.setLogLevel(newLevel). For SparkR, use setLogLevel(newLevel).\n"
     ]
    }
   ],
   "source": [
    "from pyspark.sql import SparkSession\n",
    "spark = SparkSession.\\\n",
    "        builder.\\\n",
    "        appName(\"pyspark-hello-world\").\\\n",
    "        master(\"spark://spark-master:7077\").\\\n",
    "        config(\"spark.executor.memory\", \"512m\").\\\n",
    "        getOrCreate()"
   ]
  },
  {
   "cell_type": "code",
   "execution_count": 2,
   "id": "c5e374df",
   "metadata": {},
   "outputs": [
    {
     "name": "stderr",
     "output_type": "stream",
     "text": [
      "                                                                                \r"
     ]
    }
   ],
   "source": [
    "# read the parquet files\n",
    "df = spark.read.parquet(\"./data/fhv_tripdata_2020-01.parquet\")"
   ]
  },
  {
   "cell_type": "code",
   "execution_count": 3,
   "id": "dbba8547",
   "metadata": {},
   "outputs": [
    {
     "name": "stderr",
     "output_type": "stream",
     "text": [
      "                                                                                \r"
     ]
    },
    {
     "data": {
      "text/plain": [
       "[Row(dispatching_base_num='B00001', pickup_datetime=datetime.datetime(2020, 1, 1, 0, 30), dropOff_datetime=datetime.datetime(2020, 1, 1, 1, 44), PUlocationID=264.0, SR_Flag=None, Affiliated_base_number='B00001'),\n",
       " Row(dispatching_base_num='B00001', pickup_datetime=datetime.datetime(2020, 1, 1, 0, 30), dropOff_datetime=datetime.datetime(2020, 1, 1, 0, 47), PUlocationID=264.0, SR_Flag=None, Affiliated_base_number='B00001'),\n",
       " Row(dispatching_base_num='B00009', pickup_datetime=datetime.datetime(2020, 1, 1, 0, 48), dropOff_datetime=datetime.datetime(2020, 1, 1, 1, 19), PUlocationID=264.0, SR_Flag=None, Affiliated_base_number='B00009'),\n",
       " Row(dispatching_base_num='B00009', pickup_datetime=datetime.datetime(2020, 1, 1, 0, 34), dropOff_datetime=datetime.datetime(2020, 1, 1, 0, 43), PUlocationID=264.0, SR_Flag=None, Affiliated_base_number='B00009'),\n",
       " Row(dispatching_base_num='B00009', pickup_datetime=datetime.datetime(2020, 1, 1, 0, 23), dropOff_datetime=datetime.datetime(2020, 1, 1, 0, 32), PUlocationID=264.0, SR_Flag=None, Affiliated_base_number='B00009')]"
      ]
     },
     "execution_count": 3,
     "metadata": {},
     "output_type": "execute_result"
    }
   ],
   "source": [
    "df.head(5)"
   ]
  },
  {
   "cell_type": "code",
   "execution_count": 10,
   "id": "71757da0",
   "metadata": {},
   "outputs": [
    {
     "data": {
      "text/plain": [
       "StructType(List(StructField(dispatching_base_num,StringType,true),StructField(pickup_datetime,TimestampType,true),StructField(dropOff_datetime,TimestampType,true),StructField(PUlocationID,DoubleType,true),StructField(SR_Flag,IntegerType,true),StructField(Affiliated_base_number,StringType,true)))"
      ]
     },
     "execution_count": 10,
     "metadata": {},
     "output_type": "execute_result"
    }
   ],
   "source": [
    "df.schema"
   ]
  },
  {
   "cell_type": "code",
   "execution_count": 23,
   "id": "512cada7",
   "metadata": {},
   "outputs": [],
   "source": [
    "# changing the schema\n",
    "# PUlocationID change from DoubleType to IntegerType for better storage efficiency)\n",
    "# integer: 4 bytes, long: 8 bytes\n",
    "from pyspark.sql import types"
   ]
  },
  {
   "cell_type": "code",
   "execution_count": null,
   "id": "9592247d",
   "metadata": {},
   "outputs": [],
   "source": [
    "schema = types.StructType([\n",
    "    types.StructField('dispatching_base_num', types.StringType(), True),\n",
    "    types.StructField('pickup_datetime', types.TimestampType(), True),\n",
    "    types.StructField('dropOff_datetime', types.TimestampType(), True),\n",
    "    types.StructField('PUlocationID', types.IntegerType(), True),\n",
    "    types.StructField('SR_Flag', types.StringType(), True),\n",
    "    types.StructField('Affiliated_base_number', types.StringType(), True)\n",
    "])"
   ]
  },
  {
   "cell_type": "code",
   "execution_count": null,
   "id": "dcfef7a3",
   "metadata": {},
   "outputs": [],
   "source": [
    "# change the schema of the parquet file\n",
    "# have decodeToInt error\n",
    "# df_edit = spark.read.schema(schema).parquet(\"./data/fhv_tripdata_2020-01.parquet\")"
   ]
  },
  {
   "cell_type": "code",
   "execution_count": null,
   "id": "656339d4",
   "metadata": {},
   "outputs": [],
   "source": [
    "# split the files into partitions, so that one file can be processed by multiple executors\n",
    "no_of_partitions = 24\n",
    "df.repartition(no_of_partitions)"
   ]
  },
  {
   "cell_type": "code",
   "execution_count": null,
   "id": "9beb4c8b",
   "metadata": {},
   "outputs": [],
   "source": [
    "# output the partitioned file\n",
    "df.write.parquet('fhvhv/2020/01')"
   ]
  },
  {
   "cell_type": "code",
   "execution_count": 13,
   "id": "9e91e4f2",
   "metadata": {},
   "outputs": [
    {
     "name": "stdout",
     "output_type": "stream",
     "text": [
      "+-------------------+-------------------+------------+\n",
      "|    pickup_datetime|   dropOff_datetime|PUlocationID|\n",
      "+-------------------+-------------------+------------+\n",
      "|2020-01-01 00:30:00|2020-01-01 01:44:00|       264.0|\n",
      "|2020-01-01 00:30:00|2020-01-01 00:47:00|       264.0|\n",
      "|2020-01-01 04:00:00|2020-01-01 04:40:00|       264.0|\n",
      "|2020-01-01 05:30:00|2020-01-01 06:11:00|       264.0|\n",
      "|2020-01-01 10:45:00|2020-01-01 11:12:00|       264.0|\n",
      "|2020-01-01 11:47:00|2020-01-01 12:42:00|       264.0|\n",
      "|2020-01-01 11:14:00|2020-01-01 12:22:00|       264.0|\n",
      "|2020-01-01 13:00:00|2020-01-01 19:46:00|       264.0|\n",
      "|2020-01-01 13:45:00|2020-01-01 14:45:00|       264.0|\n",
      "|2020-01-01 14:28:00|2020-01-01 15:29:00|       264.0|\n",
      "|2020-01-01 15:00:00|2020-01-01 16:15:00|       264.0|\n",
      "|2020-01-01 16:12:00|2020-01-01 18:04:00|       264.0|\n",
      "|2020-01-01 18:15:00|2020-01-01 18:28:00|       264.0|\n",
      "|2020-01-01 19:23:00|2020-01-01 21:05:00|       264.0|\n",
      "|2020-01-01 20:45:00|2020-01-01 22:11:00|       264.0|\n",
      "|2020-01-01 21:20:00|2020-01-01 22:16:00|       264.0|\n",
      "|2020-01-01 22:20:00|2020-01-01 23:42:00|       264.0|\n",
      "|2020-01-01 22:04:00|2020-01-01 23:19:00|       264.0|\n",
      "|2020-01-02 04:59:00|2020-01-02 05:51:00|       264.0|\n",
      "|2020-01-02 05:15:00|2020-01-02 06:10:00|       264.0|\n",
      "+-------------------+-------------------+------------+\n",
      "only showing top 20 rows\n",
      "\n"
     ]
    },
    {
     "name": "stderr",
     "output_type": "stream",
     "text": [
      "23/02/11 15:14:16 WARN HeartbeatReceiver: Removing executor 1 with no recent heartbeats: 303151 ms exceeds timeout 120000 ms\n",
      "23/02/11 15:14:16 WARN HeartbeatReceiver: Removing executor 0 with no recent heartbeats: 308102 ms exceeds timeout 120000 ms\n",
      "23/02/11 15:14:16 ERROR TaskSchedulerImpl: Lost executor 1 on 172.25.0.5: Executor heartbeat timed out after 303151 ms\n",
      "23/02/11 15:14:16 ERROR TaskSchedulerImpl: Lost executor 0 on 172.25.0.4: Executor heartbeat timed out after 308102 ms\n",
      "23/02/11 15:26:42 WARN HeartbeatReceiver: Removing executor 2 with no recent heartbeats: 305528 ms exceeds timeout 120000 ms\n",
      "23/02/11 15:26:42 ERROR TaskSchedulerImpl: Lost executor 2 on 172.25.0.5: Executor heartbeat timed out after 305528 ms\n",
      "23/02/11 22:43:34 WARN HeartbeatReceiver: Removing executor 3 with no recent heartbeats: 301142 ms exceeds timeout 120000 ms\n",
      "23/02/11 22:43:35 ERROR TaskSchedulerImpl: Lost executor 3 on 172.25.0.4: Executor heartbeat timed out after 301142 ms\n",
      "23/02/11 22:53:41 WARN HeartbeatReceiver: Removing executor 5 with no recent heartbeats: 306772 ms exceeds timeout 120000 ms\n",
      "23/02/11 22:53:41 ERROR TaskSchedulerImpl: Lost executor 5 on 172.25.0.4: Executor heartbeat timed out after 306772 ms\n",
      "23/02/11 23:28:47 ERROR TaskSchedulerImpl: Lost executor 4 on 172.25.0.5: worker lost\n",
      "23/02/11 23:28:47 ERROR TaskSchedulerImpl: Lost executor 6 on 172.25.0.4: worker lost\n",
      "23/02/11 23:30:38 ERROR TaskSchedulerImpl: Lost executor 7 on 172.25.0.5: worker lost\n",
      "23/02/11 23:30:38 ERROR TaskSchedulerImpl: Lost executor 8 on 172.25.0.4: worker lost\n",
      "23/02/11 23:37:52 WARN HeartbeatReceiver: Removing executor 9 with no recent heartbeats: 308914 ms exceeds timeout 120000 ms\n",
      "23/02/11 23:37:53 ERROR TaskSchedulerImpl: Lost executor 9 on 172.25.0.5: Executor heartbeat timed out after 308914 ms\n",
      "23/02/11 23:38:05 ERROR TaskSchedulerImpl: Lost executor 10 on 172.25.0.4: worker lost\n",
      "23/02/11 23:38:05 ERROR TaskSchedulerImpl: Lost executor 11 on 172.25.0.5: worker lost\n",
      "23/02/11 23:54:50 WARN HeartbeatReceiver: Removing executor 12 with no recent heartbeats: 309024 ms exceeds timeout 120000 ms\n",
      "23/02/11 23:54:50 WARN HeartbeatReceiver: Removing executor 13 with no recent heartbeats: 307292 ms exceeds timeout 120000 ms\n",
      "23/02/11 23:54:50 ERROR TaskSchedulerImpl: Lost executor 12 on 172.25.0.5: Executor heartbeat timed out after 309024 ms\n",
      "23/02/11 23:54:50 ERROR TaskSchedulerImpl: Lost executor 13 on 172.25.0.4: Executor heartbeat timed out after 307292 ms\n",
      "23/02/11 23:55:02 ERROR TaskSchedulerImpl: Lost executor 15 on 172.25.0.4: worker lost\n",
      "23/02/11 23:55:02 ERROR TaskSchedulerImpl: Lost executor 14 on 172.25.0.5: worker lost\n",
      "23/02/12 00:00:49 WARN HeartbeatReceiver: Removing executor 17 with no recent heartbeats: 307569 ms exceeds timeout 120000 ms\n",
      "23/02/12 00:00:49 ERROR TaskSchedulerImpl: Lost executor 17 on 172.25.0.5: Executor heartbeat timed out after 307569 ms\n",
      "23/02/12 00:01:01 ERROR TaskSchedulerImpl: Lost executor 18 on 172.25.0.5: worker lost\n",
      "23/02/12 00:01:01 ERROR TaskSchedulerImpl: Lost executor 16 on 172.25.0.4: worker lost\n",
      "23/02/12 00:06:48 WARN HeartbeatReceiver: Removing executor 20 with no recent heartbeats: 304865 ms exceeds timeout 120000 ms\n",
      "23/02/12 00:06:48 ERROR TaskSchedulerImpl: Lost executor 20 on 172.25.0.4: Executor heartbeat timed out after 304865 ms\n",
      "23/02/12 00:07:00 ERROR TaskSchedulerImpl: Lost executor 21 on 172.25.0.4: worker lost\n",
      "23/02/12 00:07:00 ERROR TaskSchedulerImpl: Lost executor 19 on 172.25.0.5: worker lost\n",
      "23/02/12 00:14:47 WARN HeartbeatReceiver: Removing executor 23 with no recent heartbeats: 301248 ms exceeds timeout 120000 ms\n",
      "23/02/12 00:14:47 WARN HeartbeatReceiver: Removing executor 22 with no recent heartbeats: 308419 ms exceeds timeout 120000 ms\n",
      "23/02/12 00:14:47 ERROR TaskSchedulerImpl: Lost executor 23 on 172.25.0.5: Executor heartbeat timed out after 301248 ms\n",
      "23/02/12 00:14:47 ERROR TaskSchedulerImpl: Lost executor 22 on 172.25.0.4: Executor heartbeat timed out after 308419 ms\n",
      "23/02/12 00:14:59 ERROR TaskSchedulerImpl: Lost executor 24 on 172.25.0.5: worker lost\n",
      "23/02/12 00:14:59 ERROR TaskSchedulerImpl: Lost executor 25 on 172.25.0.4: worker lost\n",
      "23/02/12 00:32:23 WARN HeartbeatReceiver: Removing executor 26 with no recent heartbeats: 281912 ms exceeds timeout 120000 ms\n",
      "23/02/12 00:32:23 ERROR TaskSchedulerImpl: Lost executor 26 on 172.25.0.4: Executor heartbeat timed out after 281912 ms\n",
      "23/02/12 00:32:36 ERROR TaskSchedulerImpl: Lost executor 28 on 172.25.0.4: worker lost\n",
      "23/02/12 00:32:36 ERROR TaskSchedulerImpl: Lost executor 27 on 172.25.0.5: worker lost\n",
      "23/02/12 00:38:22 WARN HeartbeatReceiver: Removing executor 29 with no recent heartbeats: 304529 ms exceeds timeout 120000 ms\n",
      "23/02/12 00:38:22 ERROR TaskSchedulerImpl: Lost executor 29 on 172.25.0.5: Executor heartbeat timed out after 304529 ms\n",
      "23/02/12 00:38:34 ERROR TaskSchedulerImpl: Lost executor 31 on 172.25.0.5: worker lost\n",
      "23/02/12 00:38:34 ERROR TaskSchedulerImpl: Lost executor 30 on 172.25.0.4: worker lost\n",
      "23/02/12 01:14:13 WARN HeartbeatReceiver: Removing executor 33 with no recent heartbeats: 308229 ms exceeds timeout 120000 ms\n",
      "23/02/12 01:14:13 WARN HeartbeatReceiver: Removing executor 32 with no recent heartbeats: 301301 ms exceeds timeout 120000 ms\n",
      "23/02/12 01:14:13 ERROR TaskSchedulerImpl: Lost executor 33 on 172.25.0.4: Executor heartbeat timed out after 308229 ms\n",
      "23/02/12 01:14:13 ERROR TaskSchedulerImpl: Lost executor 32 on 172.25.0.5: Executor heartbeat timed out after 301301 ms\n",
      "23/02/12 01:14:25 ERROR TaskSchedulerImpl: Lost executor 34 on 172.25.0.4: worker lost\n",
      "23/02/12 01:14:25 ERROR TaskSchedulerImpl: Lost executor 35 on 172.25.0.5: worker lost\n",
      "23/02/12 01:27:31 WARN HeartbeatReceiver: Removing executor 36 with no recent heartbeats: 304016 ms exceeds timeout 120000 ms\n",
      "23/02/12 01:27:31 WARN HeartbeatReceiver: Removing executor 37 with no recent heartbeats: 303964 ms exceeds timeout 120000 ms\n",
      "23/02/12 01:27:31 ERROR TaskSchedulerImpl: Lost executor 36 on 172.25.0.5: Executor heartbeat timed out after 304016 ms\n",
      "23/02/12 01:27:31 ERROR TaskSchedulerImpl: Lost executor 37 on 172.25.0.4: Executor heartbeat timed out after 303964 ms\n",
      "23/02/12 01:27:44 ERROR TaskSchedulerImpl: Lost executor 38 on 172.25.0.5: worker lost\n",
      "23/02/12 01:27:44 ERROR TaskSchedulerImpl: Lost executor 39 on 172.25.0.4: worker lost\n",
      "23/02/12 01:33:30 WARN HeartbeatReceiver: Removing executor 41 with no recent heartbeats: 306795 ms exceeds timeout 120000 ms\n",
      "23/02/12 01:33:30 WARN HeartbeatReceiver: Removing executor 40 with no recent heartbeats: 305970 ms exceeds timeout 120000 ms\n",
      "23/02/12 01:33:30 ERROR TaskSchedulerImpl: Lost executor 41 on 172.25.0.5: Executor heartbeat timed out after 306795 ms\n",
      "23/02/12 01:33:30 ERROR TaskSchedulerImpl: Lost executor 40 on 172.25.0.4: Executor heartbeat timed out after 305970 ms\n",
      "23/02/12 01:33:43 ERROR TaskSchedulerImpl: Lost executor 42 on 172.25.0.5: worker lost\n",
      "23/02/12 01:33:43 ERROR TaskSchedulerImpl: Lost executor 43 on 172.25.0.4: worker lost\n",
      "23/02/12 01:50:26 WARN HeartbeatReceiver: Removing executor 44 with no recent heartbeats: 303441 ms exceeds timeout 120000 ms\n",
      "23/02/12 01:50:26 ERROR TaskSchedulerImpl: Lost executor 44 on 172.25.0.5: Executor heartbeat timed out after 303441 ms\n",
      "23/02/12 01:50:39 ERROR TaskSchedulerImpl: Lost executor 46 on 172.25.0.5: worker lost\n",
      "23/02/12 01:50:39 ERROR TaskSchedulerImpl: Lost executor 45 on 172.25.0.4: worker lost\n",
      "23/02/12 01:56:25 WARN HeartbeatReceiver: Removing executor 48 with no recent heartbeats: 307404 ms exceeds timeout 120000 ms\n",
      "23/02/12 01:56:25 ERROR TaskSchedulerImpl: Lost executor 48 on 172.25.0.4: Executor heartbeat timed out after 307404 ms\n",
      "23/02/12 01:56:38 ERROR TaskSchedulerImpl: Lost executor 47 on 172.25.0.5: worker lost\n",
      "23/02/12 01:56:38 ERROR TaskSchedulerImpl: Lost executor 49 on 172.25.0.4: worker lost\n",
      "23/02/12 02:02:24 WARN HeartbeatReceiver: Removing executor 50 with no recent heartbeats: 305494 ms exceeds timeout 120000 ms\n",
      "23/02/12 02:02:24 ERROR TaskSchedulerImpl: Lost executor 50 on 172.25.0.5: Executor heartbeat timed out after 305494 ms\n",
      "23/02/12 02:02:37 ERROR TaskSchedulerImpl: Lost executor 51 on 172.25.0.4: worker lost\n",
      "23/02/12 02:02:37 ERROR TaskSchedulerImpl: Lost executor 52 on 172.25.0.5: worker lost\n",
      "23/02/12 02:19:21 WARN HeartbeatReceiver: Removing executor 54 with no recent heartbeats: 307950 ms exceeds timeout 120000 ms\n",
      "23/02/12 02:19:21 WARN HeartbeatReceiver: Removing executor 53 with no recent heartbeats: 306391 ms exceeds timeout 120000 ms\n",
      "23/02/12 02:19:21 ERROR TaskSchedulerImpl: Lost executor 54 on 172.25.0.5: Executor heartbeat timed out after 307950 ms\n",
      "23/02/12 02:19:21 ERROR TaskSchedulerImpl: Lost executor 53 on 172.25.0.4: Executor heartbeat timed out after 306391 ms\n",
      "23/02/12 02:19:34 ERROR TaskSchedulerImpl: Lost executor 55 on 172.25.0.5: worker lost\n",
      "23/02/12 02:19:34 ERROR TaskSchedulerImpl: Lost executor 56 on 172.25.0.4: worker lost\n",
      "23/02/12 02:30:34 WARN HeartbeatReceiver: Removing executor 57 with no recent heartbeats: 307898 ms exceeds timeout 120000 ms\n",
      "23/02/12 02:30:34 WARN HeartbeatReceiver: Removing executor 58 with no recent heartbeats: 306972 ms exceeds timeout 120000 ms\n",
      "23/02/12 02:30:34 ERROR TaskSchedulerImpl: Lost executor 57 on 172.25.0.5: Executor heartbeat timed out after 307898 ms\n",
      "23/02/12 02:30:35 ERROR TaskSchedulerImpl: Lost executor 58 on 172.25.0.4: Executor heartbeat timed out after 306972 ms\n",
      "23/02/12 02:30:47 ERROR TaskSchedulerImpl: Lost executor 59 on 172.25.0.5: worker lost\n",
      "23/02/12 02:30:47 ERROR TaskSchedulerImpl: Lost executor 60 on 172.25.0.4: worker lost\n",
      "23/02/12 02:36:33 WARN HeartbeatReceiver: Removing executor 61 with no recent heartbeats: 307643 ms exceeds timeout 120000 ms\n",
      "23/02/12 02:36:33 ERROR TaskSchedulerImpl: Lost executor 61 on 172.25.0.4: Executor heartbeat timed out after 307643 ms\n",
      "23/02/12 02:36:46 ERROR TaskSchedulerImpl: Lost executor 63 on 172.25.0.4: worker lost\n",
      "23/02/12 02:36:46 ERROR TaskSchedulerImpl: Lost executor 62 on 172.25.0.5: worker lost\n",
      "23/02/12 02:53:30 WARN HeartbeatReceiver: Removing executor 65 with no recent heartbeats: 306843 ms exceeds timeout 120000 ms\n",
      "23/02/12 02:53:30 ERROR TaskSchedulerImpl: Lost executor 65 on 172.25.0.5: Executor heartbeat timed out after 306843 ms\n",
      "23/02/12 02:53:43 ERROR TaskSchedulerImpl: Lost executor 66 on 172.25.0.5: worker lost\n",
      "23/02/12 02:53:43 ERROR TaskSchedulerImpl: Lost executor 64 on 172.25.0.4: worker lost\n",
      "23/02/12 02:59:29 WARN HeartbeatReceiver: Removing executor 68 with no recent heartbeats: 302188 ms exceeds timeout 120000 ms\n",
      "23/02/12 02:59:29 ERROR TaskSchedulerImpl: Lost executor 68 on 172.25.0.4: Executor heartbeat timed out after 302188 ms\n",
      "23/02/12 02:59:42 ERROR TaskSchedulerImpl: Lost executor 67 on 172.25.0.5: worker lost\n",
      "23/02/12 02:59:42 ERROR TaskSchedulerImpl: Lost executor 69 on 172.25.0.4: worker lost\n",
      "23/02/12 03:28:19 WARN HeartbeatReceiver: Removing executor 71 with no recent heartbeats: 301330 ms exceeds timeout 120000 ms\n",
      "23/02/12 03:28:19 ERROR TaskSchedulerImpl: Lost executor 71 on 172.25.0.5: Executor heartbeat timed out after 301330 ms\n",
      "23/02/12 03:28:32 ERROR TaskSchedulerImpl: Lost executor 72 on 172.25.0.5: worker lost\n",
      "23/02/12 03:28:32 ERROR TaskSchedulerImpl: Lost executor 70 on 172.25.0.4: worker lost\n",
      "23/02/12 03:34:17 WARN HeartbeatReceiver: Removing executor 74 with no recent heartbeats: 299717 ms exceeds timeout 120000 ms\n",
      "23/02/12 03:34:17 WARN HeartbeatReceiver: Removing executor 73 with no recent heartbeats: 307537 ms exceeds timeout 120000 ms\n",
      "23/02/12 03:34:17 ERROR TaskSchedulerImpl: Lost executor 74 on 172.25.0.4: Executor heartbeat timed out after 299717 ms\n",
      "23/02/12 03:34:17 ERROR TaskSchedulerImpl: Lost executor 73 on 172.25.0.5: Executor heartbeat timed out after 307537 ms\n",
      "23/02/12 03:34:29 ERROR TaskSchedulerImpl: Lost executor 76 on 172.25.0.5: worker lost\n",
      "23/02/12 03:34:29 ERROR TaskSchedulerImpl: Lost executor 75 on 172.25.0.4: worker lost\n",
      "23/02/12 03:40:15 WARN HeartbeatReceiver: Removing executor 78 with no recent heartbeats: 307512 ms exceeds timeout 120000 ms\n",
      "23/02/12 03:40:15 WARN HeartbeatReceiver: Removing executor 77 with no recent heartbeats: 304414 ms exceeds timeout 120000 ms\n",
      "23/02/12 03:40:15 ERROR TaskSchedulerImpl: Lost executor 78 on 172.25.0.5: Executor heartbeat timed out after 307512 ms\n",
      "23/02/12 03:40:15 ERROR TaskSchedulerImpl: Lost executor 77 on 172.25.0.4: Executor heartbeat timed out after 304414 ms\n",
      "23/02/12 03:40:28 ERROR TaskSchedulerImpl: Lost executor 79 on 172.25.0.5: worker lost\n",
      "23/02/12 03:40:28 ERROR TaskSchedulerImpl: Lost executor 80 on 172.25.0.4: worker lost\n",
      "23/02/12 03:55:47 WARN HeartbeatReceiver: Removing executor 82 with no recent heartbeats: 221464 ms exceeds timeout 120000 ms\n",
      "23/02/12 03:55:47 WARN HeartbeatReceiver: Removing executor 81 with no recent heartbeats: 221154 ms exceeds timeout 120000 ms\n",
      "23/02/12 03:55:47 ERROR TaskSchedulerImpl: Lost executor 82 on 172.25.0.5: Executor heartbeat timed out after 221464 ms\n",
      "23/02/12 03:55:47 ERROR TaskSchedulerImpl: Lost executor 81 on 172.25.0.4: Executor heartbeat timed out after 221154 ms\n",
      "23/02/12 03:56:00 ERROR TaskSchedulerImpl: Lost executor 83 on 172.25.0.5: worker lost\n",
      "23/02/12 03:56:00 ERROR TaskSchedulerImpl: Lost executor 84 on 172.25.0.4: worker lost\n"
     ]
    }
   ],
   "source": [
    "df.select('pickup_datetime', 'dropOff_datetime', 'PUlocationID')\\\n",
    "    .filter(df.dispatching_base_num == 'B00001')\\\n",
    "    .show()"
   ]
  },
  {
   "cell_type": "code",
   "execution_count": 21,
   "id": "69a66e8e",
   "metadata": {},
   "outputs": [
    {
     "data": {
      "text/plain": [
       "'s/001'"
      ]
     },
     "execution_count": 21,
     "metadata": {},
     "output_type": "execute_result"
    }
   ],
   "source": [
    "# user defined functions\n",
    "def crazy_stuff(base_num):\n",
    "    num = int(base_num[1:])\n",
    "    if (num % 7 == 0):\n",
    "        # return number in hex\n",
    "        return f's/{num:03x}'\n",
    "    else:\n",
    "        return f's/{num:03x}'\n",
    "    \n",
    "crazy_stuff('B00001')"
   ]
  },
  {
   "cell_type": "code",
   "execution_count": 24,
   "id": "3ab1d41e",
   "metadata": {},
   "outputs": [],
   "source": [
    "# save user defined functions into pyspark for future usage\n",
    "crazy_stuff_udf = f.udf(crazy_stuff, returnType = types.StringType())"
   ]
  },
  {
   "cell_type": "code",
   "execution_count": 25,
   "id": "95f057cf",
   "metadata": {},
   "outputs": [
    {
     "name": "stderr",
     "output_type": "stream",
     "text": [
      "                                                                                \r"
     ]
    },
    {
     "name": "stdout",
     "output_type": "stream",
     "text": [
      "+-------+-----------+------------+------------+\n",
      "|base_id|pickup_date|dropOff_date|PUlocationID|\n",
      "+-------+-----------+------------+------------+\n",
      "|  s/001| 2020-01-01|  2020-01-01|       264.0|\n",
      "|  s/001| 2020-01-01|  2020-01-01|       264.0|\n",
      "|  s/009| 2020-01-01|  2020-01-01|       264.0|\n",
      "|  s/009| 2020-01-01|  2020-01-01|       264.0|\n",
      "|  s/009| 2020-01-01|  2020-01-01|       264.0|\n",
      "|  s/009| 2020-01-01|  2020-01-01|       264.0|\n",
      "|  s/00d| 2020-01-01|  2020-01-01|       264.0|\n",
      "|  s/00d| 2020-01-01|  2020-01-01|       264.0|\n",
      "|  s/00d| 2020-01-01|  2020-01-01|       264.0|\n",
      "|  s/00e| 2020-01-01|  2020-01-01|       264.0|\n",
      "|  s/01f| 2020-01-01|  2020-01-01|       264.0|\n",
      "|  s/025| 2020-01-01|  2020-01-01|       264.0|\n",
      "|  s/025| 2020-01-01|  2020-01-01|       264.0|\n",
      "|  s/025| 2020-01-01|  2020-01-01|       264.0|\n",
      "|  s/025| 2020-01-01|  2020-01-01|       264.0|\n",
      "|  s/025| 2020-01-01|  2020-01-01|       264.0|\n",
      "|  s/025| 2020-01-01|  2020-01-01|       264.0|\n",
      "|  s/025| 2020-01-01|  2020-01-01|       264.0|\n",
      "|  s/025| 2020-01-01|  2020-01-01|       264.0|\n",
      "|  s/025| 2020-01-01|  2020-01-01|       264.0|\n",
      "+-------+-----------+------------+------------+\n",
      "only showing top 20 rows\n",
      "\n"
     ]
    },
    {
     "name": "stderr",
     "output_type": "stream",
     "text": [
      "23/02/12 07:14:13 ERROR TaskSchedulerImpl: Lost executor 86 on 172.25.0.4: worker lost\n",
      "23/02/12 07:14:13 ERROR TaskSchedulerImpl: Lost executor 85 on 172.25.0.5: worker lost\n",
      "23/02/12 07:20:11 ERROR TaskSchedulerImpl: Lost executor 87 on 172.25.0.4: worker lost\n",
      "23/02/12 07:20:11 ERROR TaskSchedulerImpl: Lost executor 88 on 172.25.0.5: worker lost\n",
      "23/02/12 07:26:08 ERROR TaskSchedulerImpl: Lost executor 90 on 172.25.0.5: worker lost\n",
      "23/02/12 07:26:08 ERROR TaskSchedulerImpl: Lost executor 89 on 172.25.0.4: worker lost\n",
      "23/02/12 07:44:13 ERROR TaskSchedulerImpl: Lost executor 91 on 172.25.0.5: worker lost\n",
      "23/02/12 07:44:13 ERROR TaskSchedulerImpl: Lost executor 92 on 172.25.0.4: worker lost\n"
     ]
    }
   ],
   "source": [
    "from pyspark.sql import functions as f\n",
    "\n",
    "# add new date columns, which shows only the date information\n",
    "# add new column that uses udf\n",
    "df\\\n",
    "    .withColumn('pickup_date', f.to_date(df.pickup_datetime))\\\n",
    "    .withColumn('dropoff_date', f.to_date(df.dropOff_datetime))\\\n",
    "    .withColumn('base_id', crazy_stuff_udf(df.dispatching_base_num))\\\n",
    "    .select('base_id', 'pickup_date', 'dropOff_date', 'PUlocationID')\\\n",
    "    .show()"
   ]
  },
  {
   "cell_type": "markdown",
   "id": "ab78c21f",
   "metadata": {},
   "source": [
    "Spark allows users to use both SQL and a programming language to process the data according to the various business requirements."
   ]
  }
 ],
 "metadata": {
  "kernelspec": {
   "display_name": "Python 3 (ipykernel)",
   "language": "python",
   "name": "python3"
  },
  "language_info": {
   "codemirror_mode": {
    "name": "ipython",
    "version": 3
   },
   "file_extension": ".py",
   "mimetype": "text/x-python",
   "name": "python",
   "nbconvert_exporter": "python",
   "pygments_lexer": "ipython3",
   "version": "3.9.2"
  }
 },
 "nbformat": 4,
 "nbformat_minor": 5
}
